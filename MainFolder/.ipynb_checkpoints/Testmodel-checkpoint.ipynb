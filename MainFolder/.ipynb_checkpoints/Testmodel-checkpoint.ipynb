{
 "cells": [
  {
   "cell_type": "code",
   "execution_count": 1,
   "id": "f854ef8c",
   "metadata": {},
   "outputs": [],
   "source": [
    "from commonlib import *\n",
    "from aisf_jackie_library import *\n",
    "\n"
   ]
  },
  {
   "cell_type": "code",
   "execution_count": 2,
   "id": "9c6d4cf4",
   "metadata": {},
   "outputs": [],
   "source": [
    "get_timeseries(\"gridized_error_cloud2.txt\", \"trainning_file2.txt\")"
   ]
  },
  {
   "cell_type": "code",
   "execution_count": 10,
   "id": "bb5546d3",
   "metadata": {},
   "outputs": [],
   "source": [
    "dataset_x_test = []\n",
    "dataset_y_test = []\n",
    "with open('trainning_file2.txt', 'r') as f_test:\n",
    "    lines = f_test.readlines()\n",
    "    # random.shuffle(lines)\n",
    "    # print(lines[10])\n",
    "    for line in lines:\n",
    "        line = line.strip(\"\\n\")\n",
    "        dataset_x.append(line.split(\"|\")[0].split(\",\"))\n",
    "        dataset_y.append(line.split(\"|\")[1])\n",
    "lable_test = [float(y) for y in dataset_y]\n",
    "input_x_test = []\n",
    "for grp in dataset_x_test:\n",
    "    input_x_test.append([float(z) for z in grp])\n",
    "    \n",
    "test_x,test_lable = create_dataset(input_x_test, lable_test)"
   ]
  },
  {
   "cell_type": "code",
   "execution_count": 11,
   "id": "d63712bb",
   "metadata": {},
   "outputs": [],
   "source": [
    "dataset_x = []\n",
    "dataset_y = []\n",
    "with open('trainning_file.txt', 'r') as f_train:\n",
    "    lines = f_train.readlines()\n",
    "    # random.shuffle(lines)\n",
    "    # print(lines[10])\n",
    "    for line in lines:\n",
    "        line = line.strip(\"\\n\")\n",
    "        dataset_x.append(line.split(\"|\")[0].split(\",\"))\n",
    "        dataset_y.append(line.split(\"|\")[1])\n",
    "lable = [float(y) for y in dataset_y]\n",
    "input_x = []\n",
    "for grp in dataset_x:\n",
    "    input_x.append([float(z) for z in grp])\n",
    "    \n",
    "train_x,train_lable = create_dataset(input_x, lable)"
   ]
  },
  {
   "cell_type": "code",
   "execution_count": 13,
   "id": "332567aa",
   "metadata": {},
   "outputs": [
    {
     "data": {
      "text/plain": [
       "(82461, 9, 1)"
      ]
     },
     "execution_count": 13,
     "metadata": {},
     "output_type": "execute_result"
    }
   ],
   "source": [
    "train_x.shape"
   ]
  },
  {
   "cell_type": "code",
   "execution_count": 16,
   "id": "a273f309",
   "metadata": {},
   "outputs": [
    {
     "data": {
      "text/plain": [
       "(82461, 1)"
      ]
     },
     "execution_count": 16,
     "metadata": {},
     "output_type": "execute_result"
    }
   ],
   "source": [
    "train_lable.shape"
   ]
  },
  {
   "cell_type": "code",
   "execution_count": 17,
   "id": "7967fb0a",
   "metadata": {},
   "outputs": [
    {
     "data": {
      "text/plain": [
       "(0,)"
      ]
     },
     "execution_count": 17,
     "metadata": {},
     "output_type": "execute_result"
    }
   ],
   "source": [
    "test_x.shape"
   ]
  },
  {
   "cell_type": "code",
   "execution_count": 18,
   "id": "ef7d7ec2",
   "metadata": {},
   "outputs": [
    {
     "data": {
      "text/plain": [
       "(0,)"
      ]
     },
     "execution_count": 18,
     "metadata": {},
     "output_type": "execute_result"
    }
   ],
   "source": [
    "test_lable.shape"
   ]
  },
  {
   "cell_type": "code",
   "execution_count": null,
   "id": "60d2c0b8",
   "metadata": {},
   "outputs": [],
   "source": []
  }
 ],
 "metadata": {
  "interpreter": {
   "hash": "bd6034caac2ad3686efa7c42345cb0e25747b2f2c234d72f195d6d1e77e6159e"
  },
  "kernelspec": {
   "display_name": "Python 3",
   "language": "python",
   "name": "python3"
  },
  "language_info": {
   "codemirror_mode": {
    "name": "ipython",
    "version": 3
   },
   "file_extension": ".py",
   "mimetype": "text/x-python",
   "name": "python",
   "nbconvert_exporter": "python",
   "pygments_lexer": "ipython3",
   "version": "3.8.12"
  }
 },
 "nbformat": 4,
 "nbformat_minor": 5
}
