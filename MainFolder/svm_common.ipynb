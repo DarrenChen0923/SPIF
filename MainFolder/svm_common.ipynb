{
  "nbformat": 4,
  "nbformat_minor": 0,
  "metadata": {
    "colab": {
      "name": "svm_common.ipynb",
      "provenance": [],
      "collapsed_sections": [
        "KfcZ0g-4Z4VQ",
        "dtGqOKmXZx30"
      ]
    },
    "kernelspec": {
      "name": "python3",
      "display_name": "Python 3"
    },
    "language_info": {
      "name": "python"
    }
  },
  "cells": [
    {
      "cell_type": "markdown",
      "metadata": {
        "id": "KfcZ0g-4Z4VQ"
      },
      "source": [
        "#Step 0 mount your own drive with shared files\n",
        "\n"
      ]
    },
    {
      "cell_type": "code",
      "metadata": {
        "id": "esvfgt8D1sRw",
        "colab": {
          "base_uri": "https://localhost:8080/"
        },
        "outputId": "234b7942-a842-4e32-94cc-378f0f4fdb30"
      },
      "source": [
        "from google.colab import drive\n",
        "drive.mount('/content/drive')"
      ],
      "execution_count": null,
      "outputs": [
        {
          "output_type": "stream",
          "name": "stdout",
          "text": [
            "Drive already mounted at /content/drive; to attempt to forcibly remount, call drive.mount(\"/content/drive\", force_remount=True).\n"
          ]
        }
      ]
    },
    {
      "cell_type": "markdown",
      "metadata": {
        "id": "dtGqOKmXZx30"
      },
      "source": [
        "# Step 1 import all lib"
      ]
    },
    {
      "cell_type": "code",
      "metadata": {
        "id": "JJDa9X_QzuTS"
      },
      "source": [
        "import sys\n",
        "import tensorflow as tf\n",
        "from tensorflow import keras\n",
        "from tensorflow.keras import Sequential, layers, utils\n",
        "import pandas as pd\n",
        "import numpy as np\n",
        "np.set_printoptions(threshold=sys.maxsize)\n",
        "import matplotlib.pyplot as plt\n",
        "# %matplotlib notebook\n",
        "from math import hypot\n",
        "from itertools import combinations\n",
        "from sklearn.model_selection import KFold\n",
        "import gc\n",
        "class GarbageCollectorCallback(tf.keras.callbacks.Callback):\n",
        "    def on_epoch_end(self, epoch, logs=None):\n",
        "        gc.collect()\n",
        "from tensorflow.keras import regularizers\n",
        "from sklearn.linear_model import Lasso\n",
        "from sklearn.linear_model import LinearRegression\n",
        "from sklearn.model_selection import cross_val_score\n",
        "from sklearn.model_selection import RepeatedKFold\n",
        "from sklearn.metrics import mean_squared_error\n",
        "from sklearn.metrics import mean_absolute_error\n",
        "from sklearn.metrics import r2_score\n",
        "# from sklearn.metrics import root_mean_squared_error\n",
        "import pickle\n",
        "from sklearn.svm import SVR\n",
        "from sklearn.model_selection import GridSearchCV"
      ],
      "execution_count": null,
      "outputs": []
    },
    {
      "cell_type": "markdown",
      "metadata": {
        "id": "7vamPn3CKzqk"
      },
      "source": [
        "# Step 2 : Run this Block : \n",
        "## Prepare Data : contain 3 functions "
      ]
    },
    {
      "cell_type": "code",
      "metadata": {
        "id": "hCzNCOvI_et4"
      },
      "source": [
        "def create_dataset(X, y):\n",
        "    features = []\n",
        "    targets = []\n",
        "    \n",
        "    for i in range(0, len(X)): \n",
        "        data = [[i] for i in X[i]] # 序列数据  \n",
        "        label = [y[i]] # 标签数据\n",
        "        \n",
        "        # 保存到features和labels\n",
        "        features.append(data)\n",
        "        targets.append(label)\n",
        "    \n",
        "    # 返回\n",
        "    return np.array(features), np.array(targets)"
      ],
      "execution_count": null,
      "outputs": []
    },
    {
      "cell_type": "code",
      "metadata": {
        "id": "0QeOJmll_gPe"
      },
      "source": [
        "# split data \n",
        "#x_train, x_test, y_train, y_test\n",
        "\n",
        "def split_dataset(x, y, train_ratio=0.8):\n",
        "\n",
        "    x_len = len(x) # 特征数据集X的样本数量\n",
        "    train_data_len = int(x_len * train_ratio) # 训练集的样本数量\n",
        "    \n",
        "    x_train = x[:train_data_len] # 训练集\n",
        "    y_train = y[:train_data_len] # 训练标签集\n",
        "    \n",
        "    x_test = x[train_data_len:] # 测试集\n",
        "    y_test = y[train_data_len:] # 测试集标签集\n",
        "    \n",
        "    # 返回值\n",
        "    return x_train, x_test, y_train, y_test"
      ],
      "execution_count": null,
      "outputs": []
    },
    {
      "cell_type": "markdown",
      "metadata": {
        "id": "eQClaj-swd7-"
      },
      "source": [
        "# Step 3: Run this Block \n",
        "## Model build base on Delete NaN File \n",
        "### Need to change file path to your own drive file path"
      ]
    },
    {
      "cell_type": "code",
      "metadata": {
        "id": "Ae1gjow6xxS0"
      },
      "source": [
        "seed = 2"
      ],
      "execution_count": null,
      "outputs": []
    },
    {
      "cell_type": "code",
      "metadata": {
        "id": "twvVIQcuu-7s"
      },
      "source": [
        "filenum = 1\n",
        "gsize = 50\n",
        "shuffle = True"
      ],
      "execution_count": null,
      "outputs": []
    },
    {
      "cell_type": "code",
      "metadata": {
        "id": "Yx9eyRt_EcwZ"
      },
      "source": [
        "dataset_x = []\n",
        "dataset_y = []\n",
        "import random\n",
        "\n",
        "with open('/content/drive/MyDrive/ColabNotebooks/{size}mm_file/outfile{fnum}/trainingfile_{size}mm.txt'.format(size = gsize, fnum = filenum), 'r') as f:\n",
        "    lines = f.readlines()\n",
        "    if shuffle:\n",
        "      random.Random(seed).shuffle(lines)\n",
        "    else:\n",
        "      pass\n",
        "    # print(lines[10])\n",
        "    for line in lines:\n",
        "        line = line.strip(\"\\n\")\n",
        "        dataset_x.append(line.split(\"|\")[0].split(\",\"))\n",
        "        dataset_y.append(line.split(\"|\")[1])\n",
        "        "
      ],
      "execution_count": null,
      "outputs": []
    },
    {
      "cell_type": "code",
      "metadata": {
        "colab": {
          "base_uri": "https://localhost:8080/"
        },
        "id": "wRUN2Yy2-hF4",
        "outputId": "72482cf6-d6fa-4084-c620-fa5292110b47"
      },
      "source": [
        "len(dataset_x)"
      ],
      "execution_count": null,
      "outputs": [
        {
          "output_type": "execute_result",
          "data": {
            "text/plain": [
              "16"
            ]
          },
          "metadata": {},
          "execution_count": 105
        }
      ]
    },
    {
      "cell_type": "code",
      "metadata": {
        "id": "Hlo6KZsQqDb5"
      },
      "source": [
        "dataset_x\n",
        "lable = [float(y) for y in dataset_y]\n",
        "input_x = []\n",
        "for grp in dataset_x:\n",
        "  input_x.append([float(z) for z in grp])"
      ],
      "execution_count": null,
      "outputs": []
    },
    {
      "cell_type": "code",
      "metadata": {
        "id": "Z_2YDzmqyJJU"
      },
      "source": [
        "input_x,lable = create_dataset(input_x, lable)\n",
        "x_train, x_test, y_train, y_test = split_dataset(input_x, lable, train_ratio=0.80)"
      ],
      "execution_count": null,
      "outputs": []
    },
    {
      "cell_type": "code",
      "metadata": {
        "id": "4JINd2Ja9VRv"
      },
      "source": [
        "nsample,nx,ny = x_train.shape\n",
        "x_train_2d = x_train.reshape(nsample, nx*ny)\n",
        "\n",
        "nsamplet,nxt,nyt = x_test.shape\n",
        "x_test_2d = x_test.reshape(nsamplet, nxt*nyt)"
      ],
      "execution_count": null,
      "outputs": []
    },
    {
      "cell_type": "code",
      "metadata": {
        "id": "Dv3c2mdg7TpJ"
      },
      "source": [
        "''' try to get best performed params'''\n",
        "\n",
        "# C = [0.1, 0.2, 0.5, 0.8, 0.9, 1, 2, 5, 10]\n",
        "# kernel = 'rbf'\n",
        "# gamma = [0.001, 0.01, 0.1, 0.2, 0.5, 0.8]\n",
        "# epsilon = [0.01, 0.05, 0.1, 0.2, 0.5, 0.8]\n",
        "# # 参数字典\n",
        "# params_dict = {\n",
        "#     'C': C,\n",
        "#     'gamma': gamma,\n",
        "#     'epsilon': epsilon\n",
        "# }\n",
        "\n",
        "# # 创建SVR实例\n",
        "# svr = SVR()\n",
        "\n",
        "# # 网格参数搜索\n",
        "# gsCV = GridSearchCV(\n",
        "#     estimator=svr,\n",
        "#     param_grid=params_dict,\n",
        "#     n_jobs=2,\n",
        "#     scoring='r2',\n",
        "#     cv=6\n",
        "# )\n",
        "\n",
        "\n",
        "\n",
        "# # 输出参数信息\n",
        "# print(\"最佳度量值:\", gsCV.best_score_)\n",
        "# print(\"最佳参数:\", gsCV.best_params_)\n",
        "# print(\"最佳模型:\", gsCV.best_estimator_)\n",
        "\n"
      ],
      "execution_count": null,
      "outputs": []
    },
    {
      "cell_type": "code",
      "metadata": {
        "colab": {
          "base_uri": "https://localhost:8080/"
        },
        "id": "erR-nzh6rVzb",
        "outputId": "937eccfc-b340-4612-c832-50dfafb9ff05"
      },
      "source": [
        "# build model and get result\n",
        "svr=SVR(C = 10, kernel = 'rbf', epsilon= 0.1, gamma= 0.001)\n",
        "svr=svr.fit(x_train_2d, y_train.ravel())\n",
        "\n",
        "\n",
        "\n",
        "svr_predict=svr.predict(x_test_2d)\n",
        "\n",
        "\n",
        "mae = mean_absolute_error(y_test, svr_predict)\n",
        "mse = mean_squared_error(y_test, svr_predict)\n",
        "rmse = mean_squared_error(y_test, svr_predict, squared = False)\n",
        "r2 = r2_score(y_test, svr_predict)\n",
        "\n",
        "\n",
        "\n",
        "# print(svr_predict)\n",
        "print(\"RMSE：\", rmse)\n",
        "print(\"MAE：\", mae)\n",
        "print(\"MSE：\", mse)\n",
        "print(\"R^2：\", r2)\n",
        "\n"
      ],
      "execution_count": null,
      "outputs": [
        {
          "output_type": "stream",
          "name": "stdout",
          "text": [
            "RMSE： 1.1680736395536346\n",
            "MAE： 0.9250195618530016\n",
            "MSE： 1.3643960274200742\n",
            "R^2： 0.23727039096133418\n"
          ]
        }
      ]
    },
    {
      "cell_type": "code",
      "metadata": {
        "id": "KUrbfJZ_pCNe"
      },
      "source": [
        "# save model\n",
        "pkl_filename = '/content/drive/MyDrive/ColabNotebooks/{size}mm_file/outfile{fnum}/Model_svm.pickle'.format(\n",
        "      size = gsize, fnum = filenum)\n",
        "\n",
        "with open(pkl_filename, 'wb') as file:\n",
        "    pickle.dump(svr, file)"
      ],
      "execution_count": null,
      "outputs": []
    },
    {
      "cell_type": "code",
      "metadata": {
        "id": "TuGjhHv312qY"
      },
      "source": [
        "# # 设置超参数\n",
        "# C = [0.1, 0.2, 0.5, 0.8, 0.9, 1, 2, 5, 10]\n",
        "# kernel = 'rbf'\n",
        "# gamma = [0.001, 0.01, 0.1, 0.2, 0.5, 0.8]\n",
        "# epsilon = [0.01, 0.05, 0.1, 0.2, 0.5, 0.8]\n",
        "# # 参数字典\n",
        "# params_dict = {\n",
        "#     'C': C,\n",
        "#     'gamma': gamma,\n",
        "#     'epsilon': epsilon\n",
        "# }\n",
        "\n",
        "# # 创建SVR实例\n",
        "# svr = SVR()\n",
        "\n",
        "# # 网格参数搜索\n",
        "# gsCV = GridSearchCV(\n",
        "#     estimator=svr,\n",
        "#     param_grid=params_dict,\n",
        "#     n_jobs=2,\n",
        "#     scoring='r2',\n",
        "#     cv=6\n",
        "# )\n",
        "\n",
        "# # 输出参数信息\n",
        "# print(\"最佳度量值:\", gsCV.best_score_)\n",
        "# print(\"最佳参数:\", gsCV.best_params_)\n",
        "# print(\"最佳模型:\", gsCV.best_estimator_)"
      ],
      "execution_count": null,
      "outputs": []
    }
  ]
}