{
  "cells": [
    {
      "cell_type": "markdown",
      "metadata": {
        "id": "KfcZ0g-4Z4VQ"
      },
      "source": [
        "#Step 0 mount your own drive with shared files\n",
        "\n"
      ]
    },
    {
      "cell_type": "code",
      "execution_count": null,
      "metadata": {
        "colab": {
          "base_uri": "https://localhost:8080/"
        },
        "id": "esvfgt8D1sRw",
        "outputId": "492f93cc-1594-4afa-c8c3-a35a18b24765"
      },
      "outputs": [
        {
          "name": "stdout",
          "output_type": "stream",
          "text": [
            "Drive already mounted at /content/drive; to attempt to forcibly remount, call drive.mount(\"/content/drive\", force_remount=True).\n"
          ]
        }
      ],
      "source": [
        "from google.colab import drive\n",
        "drive.mount('/content/drive')"
      ]
    },
    {
      "cell_type": "markdown",
      "metadata": {
        "id": "dtGqOKmXZx30"
      },
      "source": [
        "# Step 1 import all lib"
      ]
    },
    {
      "cell_type": "code",
      "execution_count": null,
      "metadata": {
        "id": "JJDa9X_QzuTS"
      },
      "outputs": [],
      "source": [
        "import sys\n",
        "import tensorflow as tf\n",
        "from tensorflow import keras\n",
        "from tensorflow.keras import Sequential, layers, utils\n",
        "import pandas as pd\n",
        "import numpy as np\n",
        "np.set_printoptions(threshold=sys.maxsize)\n",
        "import matplotlib.pyplot as plt\n",
        "# %matplotlib notebook\n",
        "from math import hypot\n",
        "from itertools import combinations\n",
        "from sklearn.model_selection import KFold\n",
        "import gc\n",
        "class GarbageCollectorCallback(tf.keras.callbacks.Callback):\n",
        "    def on_epoch_end(self, epoch, logs=None):\n",
        "        gc.collect()\n",
        "from tensorflow.keras import regularizers"
      ]
    },
    {
      "cell_type": "markdown",
      "metadata": {
        "id": "7vamPn3CKzqk"
      },
      "source": [
        "# Step 2 : Run this Block : \n",
        "## Prepare Data : contain 3 functions "
      ]
    },
    {
      "cell_type": "code",
      "execution_count": null,
      "metadata": {
        "id": "hCzNCOvI_et4"
      },
      "outputs": [],
      "source": [
        "def create_dataset(X, y):\n",
        "    features = []\n",
        "    targets = []\n",
        "    \n",
        "    for i in range(0, len(X)): \n",
        "        data = [[i] for i in X[i]] # 序列数据  \n",
        "        label = [y[i]] # 标签数据\n",
        "        \n",
        "        # 保存到features和labels\n",
        "        features.append(data)\n",
        "        targets.append(label)\n",
        "    \n",
        "    # 返回\n",
        "    return np.array(features), np.array(targets)"
      ]
    },
    {
      "cell_type": "code",
      "execution_count": null,
      "metadata": {
        "id": "0QeOJmll_gPe"
      },
      "outputs": [],
      "source": [
        "# split data\n",
        "# x_train, x_test, y_train, y_test\n",
        "\n",
        "def split_dataset(x, y, train_ratio=0.8):\n",
        "\n",
        "    x_len = len(x) # 特征数据集X的样本数量\n",
        "    train_data_len = int(x_len * train_ratio) # 训练集的样本数量\n",
        "    \n",
        "    x_train = x[:train_data_len] # 训练集\n",
        "    y_train = y[:train_data_len] # 训练标签集\n",
        "    \n",
        "    x_test = x[train_data_len:] # 测试集\n",
        "    y_test = y[train_data_len:] # 测试集标签集\n",
        "    \n",
        "    # 返回值\n",
        "    return x_train, x_test, y_train, y_test"
      ]
    },
    {
      "cell_type": "markdown",
      "metadata": {
        "id": "eQClaj-swd7-"
      },
      "source": [
        "# Step 3: Run this Block \n",
        "## Model build base on Delete NaN File \n",
        "### Need to change file path to your own drive file path"
      ]
    },
    {
      "cell_type": "code",
      "execution_count": null,
      "metadata": {
        "id": "Ae1gjow6xxS0"
      },
      "outputs": [],
      "source": [
        "# set seed\n",
        "seed = 2"
      ]
    },
    {
      "cell_type": "code",
      "execution_count": null,
      "metadata": {
        "id": "twvVIQcuu-7s"
      },
      "outputs": [],
      "source": [
        "# set which file to use to build model and what is the grid size\n",
        "filenum = 1\n",
        "gsize = 30\n",
        "shuffle = True"
      ]
    },
    {
      "cell_type": "code",
      "execution_count": null,
      "metadata": {
        "id": "Yx9eyRt_EcwZ"
      },
      "outputs": [],
      "source": [
        "dataset_x = []\n",
        "dataset_y = []\n",
        "import random\n",
        "\n",
        "with open('/content/drive/MyDrive/ColabNotebooks/{size}mm_file/outfile{fnum}/trainingfile_{size}mm.txt'.format(size = gsize, fnum = filenum), 'r') as f:\n",
        "    lines = f.readlines()\n",
        "    if shuffle:\n",
        "      random.Random(seed).shuffle(lines)\n",
        "    else:\n",
        "      pass\n",
        "    # print(lines[10])\n",
        "    for line in lines:\n",
        "        line = line.strip(\"\\n\")\n",
        "        dataset_x.append(line.split(\"|\")[0].split(\",\"))\n",
        "        dataset_y.append(line.split(\"|\")[1])\n",
        "        "
      ]
    },
    {
      "cell_type": "code",
      "execution_count": null,
      "metadata": {
        "colab": {
          "base_uri": "https://localhost:8080/"
        },
        "id": "wRUN2Yy2-hF4",
        "outputId": "bf186e68-2184-41a1-a875-2a49dc6f7adc"
      },
      "outputs": [
        {
          "data": {
            "text/plain": [
              "81"
            ]
          },
          "execution_count": 194,
          "metadata": {},
          "output_type": "execute_result"
        }
      ],
      "source": [
        "len(dataset_x)"
      ]
    },
    {
      "cell_type": "code",
      "execution_count": null,
      "metadata": {
        "id": "Hlo6KZsQqDb5"
      },
      "outputs": [],
      "source": [
        "dataset_x\n",
        "lable = [float(y) for y in dataset_y]\n",
        "input_x = []\n",
        "for grp in dataset_x:\n",
        "  input_x.append([float(z) for z in grp])"
      ]
    },
    {
      "cell_type": "code",
      "execution_count": null,
      "metadata": {
        "id": "Z_2YDzmqyJJU"
      },
      "outputs": [],
      "source": [
        "input_x,lable = create_dataset(input_x, lable)\n",
        "x_train, x_test, y_train, y_test = split_dataset(input_x, lable, train_ratio=0.80)"
      ]
    },
    {
      "cell_type": "code",
      "execution_count": null,
      "metadata": {
        "id": "HGVLxf_CinQk"
      },
      "outputs": [],
      "source": [
        "# input_x"
      ]
    },
    {
      "cell_type": "markdown",
      "metadata": {
        "id": "a-vM6EcLh4OL"
      },
      "source": [
        "## Data shape"
      ]
    },
    {
      "cell_type": "code",
      "execution_count": null,
      "metadata": {
        "id": "lMdS18qjwXbi"
      },
      "outputs": [],
      "source": [
        "# input_x.shape\n",
        "# lable.shape\n",
        "# print(x_train.shape , x_test.shape)\n",
        "# print(y_train.shape, y_test.shape)"
      ]
    },
    {
      "cell_type": "markdown",
      "metadata": {
        "id": "Z-dcorDNiJ9R"
      },
      "source": [
        "## LSTM Model"
      ]
    },
    {
      "cell_type": "code",
      "execution_count": null,
      "metadata": {
        "id": "ir2ltCeTymXQ"
      },
      "outputs": [],
      "source": [
        "file_path = \"/content/drive/MyDrive/ColabNotebooks/best_checkpoint.hdf5\"\n",
        "\n",
        "\n",
        "earlyStopping=tf.keras.callbacks.EarlyStopping(monitor='val_loss', patience=50, verbose=1, mode='auto')\n",
        "checkpoint_callback = tf.keras.callbacks.ModelCheckpoint(filepath=file_path, \n",
        "                                                         monitor='loss', \n",
        "                                                         mode='min', \n",
        "                                                         save_best_only=True,\n",
        "                                                         save_weights_only=True)\n",
        "\n",
        "learning_rate_reduction = tf.keras.callbacks.ReduceLROnPlateau(monitor='val_loss', \n",
        "                                            patience=50, \n",
        "                                            verbose=1, \n",
        "                                            factor=0.5, \n",
        "                                            min_lr=0.00001)"
      ]
    },
    {
      "cell_type": "code",
      "execution_count": null,
      "metadata": {
        "id": "NMJfYgBAK8X7"
      },
      "outputs": [],
      "source": [
        "# set paramemaers\n",
        "# LSTM\n",
        "lstm_units = 128\n",
        "acti = 'relu'\n",
        "drop = 0\n",
        "regu = None #regularizers.l2(1e-4)\n",
        "batch = 8\n",
        "#16！\n",
        "\n",
        "# optimizer\n",
        "lr = 0.001\n",
        "mom = 0.01\n",
        "\n",
        "#complie\n",
        "callback_file = [checkpoint_callback, learning_rate_reduction] #[earlyStopping,checkpoint_callback] #None\n",
        "epo = 1000\n"
      ]
    },
    {
      "cell_type": "code",
      "execution_count": null,
      "metadata": {
        "id": "9qPimxtIyjt-"
      },
      "outputs": [],
      "source": [
        "# build model\n",
        "model = Sequential([\n",
        "        #LSTM layer\n",
        "        layers.LSTM(units = lstm_units, \n",
        "                    input_shape=(9, 1),\n",
        "                    activation = acti, \n",
        "                    recurrent_activation='sigmoid', \n",
        "                    use_bias=True, \n",
        "                    kernel_initializer='glorot_uniform', \n",
        "                    recurrent_initializer='orthogonal', \n",
        "                    bias_initializer='zeros', \n",
        "                    unit_forget_bias=True, \n",
        "                    kernel_regularizer= regu, \n",
        "                    recurrent_regularizer= regu, \n",
        "                    bias_regularizer= regu, \n",
        "                    activity_regularizer=None, \n",
        "                    kernel_constraint=None, \n",
        "                    recurrent_constraint=None, \n",
        "                    bias_constraint=None, \n",
        "                    dropout= drop, \n",
        "                    recurrent_dropout=0.0, \n",
        "                    implementation=1, \n",
        "                    return_sequences=False, \n",
        "                    return_state=False, \n",
        "                    go_backwards=False, \n",
        "                    stateful=False, \n",
        "                    unroll=False),\n",
        "          \n",
        "          layers.Dense(256, \n",
        "                   activation=acti, \n",
        "                   use_bias=True, \n",
        "                   kernel_initializer='glorot_uniform', \n",
        "                   bias_initializer='zeros', \n",
        "                   kernel_regularizer=None, \n",
        "                   bias_regularizer=None, \n",
        "                   activity_regularizer=None, \n",
        "                   kernel_constraint=None, \n",
        "                   bias_constraint=None),             \n",
        "          # layers.Dense(128, activation=acti),\n",
        "          layers.Dense(64, activation=acti), #relu\n",
        "          layers.Dense(1) #no act\n",
        "  ])\n"
      ]
    },
    {
      "cell_type": "code",
      "execution_count": null,
      "metadata": {
        "id": "oizeH-e6yp9n"
      },
      "outputs": [],
      "source": [
        "opt = keras.optimizers.SGD(learning_rate=lr, momentum= mom, decay=0.0, nesterov= False)\n",
        "\n",
        "model.compile(\n",
        "    optimizer=opt,\n",
        "    loss=\"mae\", #mse\n",
        "    metrics=None,\n",
        "    loss_weights=None,\n",
        "    weighted_metrics=None,\n",
        "    run_eagerly=None,\n",
        "    steps_per_execution=None,\n",
        ")"
      ]
    },
    {
      "cell_type": "code",
      "execution_count": null,
      "metadata": {
        "colab": {
          "base_uri": "https://localhost:8080/"
        },
        "id": "H5tDouPwyruz",
        "outputId": "3decf31f-c482-43bf-bb6b-3649b5571450"
      },
      "outputs": [],
      "source": [
        "import time\n",
        "start = time.perf_counter()\n",
        "history = model.fit(\n",
        "          x_train,\n",
        "          y_train,\n",
        "          batch_size=batch,\n",
        "          epochs=epo,\n",
        "          verbose=\"auto\",\n",
        "          callbacks = callback_file,\n",
        "          validation_split= 0,\n",
        "          validation_data = (x_test, y_test),\n",
        "          shuffle= False, \n",
        "          class_weight=None,\n",
        "          sample_weight=None,\n",
        "          initial_epoch=0,\n",
        "          steps_per_epoch=None,\n",
        "          validation_steps=None,\n",
        "          validation_batch_size=None,\n",
        "          validation_freq=1,\n",
        "          max_queue_size=10,\n",
        "          workers=1,\n",
        "          use_multiprocessing=False,\n",
        "      )        \n",
        "\n",
        "elapsed = time.perf_counter() - start\n",
        "print('Elapsed %.3f seconds.' % elapsed)\n"
      ]
    },
    {
      "cell_type": "code",
      "execution_count": null,
      "metadata": {
        "colab": {
          "base_uri": "https://localhost:8080/"
        },
        "id": "_lrEHKKNy2O_",
        "outputId": "30b5462d-8c16-4ace-d1f7-65e3ca79add0"
      },
      "outputs": [
        {
          "name": "stdout",
          "output_type": "stream",
          "text": [
            "1/1 [==============================] - 0s 270ms/step\n",
            "RMSE: 0.8836724924022223\n",
            "MAE:  0.6000656213709414\n",
            "MSE: 0.7808770738283557\n",
            "Rsqr: 0.1232851936962105\n"
          ]
        }
      ],
      "source": [
        "y_pred = model.predict(x_test, verbose=1)\n",
        "from sklearn.metrics import mean_squared_error\n",
        "from sklearn.metrics import mean_absolute_error\n",
        "from sklearn.metrics import r2_score\n",
        "score = r2_score(y_test, y_pred)\n",
        "print(\"RMSE:\", mean_squared_error(y_test, y_pred, squared=False))\n",
        "print(\"MAE: \", mean_absolute_error(y_test, y_pred))\n",
        "print(\"MSE:\", mean_squared_error(y_test, y_pred))\n",
        "print(\"Rsqr:\", score)"
      ]
    },
    {
      "cell_type": "code",
      "execution_count": null,
      "metadata": {
        "colab": {
          "base_uri": "https://localhost:8080/",
          "height": 513
        },
        "id": "_OL1sMWWyuUa",
        "outputId": "6c78bf26-03c7-4f49-c3df-930749334768"
      },
      "outputs": [
        {
          "data": {
            "image/png": "[encoded data removed]",
            "text/plain": [
              "<Figure size 1152x576 with 1 Axes>"
            ]
          },
          "metadata": {
            "needs_background": "light"
          },
          "output_type": "display_data"
        }
      ],
      "source": [
        "plt.figure(figsize=(16,8))\n",
        "plt.plot(history.history['loss'], label='train loss')\n",
        "plt.plot(history.history['val_loss'], label='val loss')\n",
        "# plt.plot(history.history['lr'],  label='lr')\n",
        "plt.title(\"LOSS\")\n",
        "plt.xlabel(\"Epochs\")\n",
        "plt.ylabel(\"Loss\")\n",
        "plt.legend(loc='best')\n",
        "plt.show()\n",
        "\n",
        "# import pickle\n",
        "# with open('/content/drive/MyDrive/ColabNotebooks/{size}mm_file/outfile{fnum}/Model_shuff{shuff}_bch{batchsize}_{rscore:.2f}.pickle'.format(size = gsize, fnum = filenum, shuff = str(shuffle), batchsize = batch, rscore = score), 'wb') as file_pi:\n",
        "#     pickle.dump(history.history, file_pi)\n",
        "# with open('/content/drive/MyDrive/ColabNotebooks/{size}mm_file/outfile{fnum}/Model_shuff{shuff}_bch{batchsize}_{rscore:.2f}.txt'.format(size = gsize, fnum = filenum, shuff = str(shuffle), batchsize = batch, rscore = score), 'wb') as file_pi:\n",
        "#     history=pickle.load(file_pi)\n",
        "\n",
        "# plt.savefig('/content/drive/MyDrive/ColabNotebooks/{size}mm_file/outfile{fnum}/Model_shuff{shuff}_bch{batchsize}_{rscore:.2f}.png'.format(size = gsize, fnum = filenum, shuff = str(shuffle), batchsize = batch, rscore = score), dpi=300)\n",
        "# Traning loss 代表how well model fit 训练集\n",
        "# validation loss 代表 how well the model fits 测试集.\n",
        "# The training loss indicates how well the model is fitting the training data, \n",
        "# while the validation loss indicates how well the model fits new data."
      ]
    },
    {
      "cell_type": "code",
      "execution_count": null,
      "metadata": {
        "id": "o_P_nixcOmyM"
      },
      "outputs": [],
      "source": [
        "# model.save('/content/drive/MyDrive/ColabNotebooks/{size}mm_file/outfile{fnum}/Model_shuff{shuff}_bch{batchsize}__{rscore:.2f}.h5'.format(size = gsize, fnum = filenum, shuff = str(shuffle), batchsize = batch, rscore = score))"
      ]
    },
    {
      "cell_type": "markdown",
      "metadata": {
        "id": "BIiBU6GCaUEo"
      },
      "source": [
        "##----------------- No run needed below this line------------------------"
      ]
    },
    {
      "cell_type": "code",
      "execution_count": null,
      "metadata": {
        "id": "0x9Gif4yy4zx"
      },
      "outputs": [],
      "source": [
        "# from sklearn.metrics import r2_score\n",
        "# print(y_test.shape , y_pred.shape)\n",
        "# print(y_test)\n",
        "# print(((y_pred - y_test)/y_test)*100)\n",
        "# plt.figure(figsize=(160,80))\n",
        "# plt.plot(y_test, label=\"True label\")\n",
        "# plt.plot(y_pred, label=\"Pred label\")\n",
        "# plt.title(\"True vs Pred\")\n",
        "# plt.legend(loc='best')\n",
        "# # plt.show()\n",
        "\n",
        "# y_true = y_test[:2000]\n",
        "# y_pred = y_pred[:2000]\n",
        "\n",
        "# plt.figure(figsize=(16,8))\n",
        "# plt.plot(y_true, marker='o', color='red')\n",
        "# plt.plot(y_pred, marker='*', color='blue')\n",
        "# axes[0].plot(y_true, marker='o', color='red')\n",
        "# axes[1].plot(y_pred, marker='*', color='blue')\n",
        "# plt.show()"
      ]
    },
    {
      "cell_type": "code",
      "execution_count": null,
      "metadata": {
        "id": "dFZkcH9gw0SM"
      },
      "outputs": [],
      "source": [
        "# fig, axes = plt.subplots(2, 1, figsize=(16,8))\n",
        "# axes[0].plot(y_true, marker='o', color='red')\n",
        "# axes[1].plot(y_pred, marker='*', color='blue')"
      ]
    },
    {
      "cell_type": "code",
      "execution_count": null,
      "metadata": {
        "id": "nP83oM6mgbPU"
      },
      "outputs": [],
      "source": [
        "# from keras.models import load_model"
      ]
    },
    {
      "cell_type": "code",
      "execution_count": null,
      "metadata": {
        "id": "4XR1W_2gg18i"
      },
      "outputs": [],
      "source": [
        "# new_model = load_model(\"/content/drive/MyDrive/ColabNotebooks/saved_model/model_20mm_4batch.h5\")"
      ]
    },
    {
      "cell_type": "code",
      "execution_count": null,
      "metadata": {
        "id": "sUtIxqb6hA9D"
      },
      "outputs": [],
      "source": [
        "# y_pred2 = new_model.predict(x_test, verbose=1)\n",
        "# from sklearn.metrics import mean_squared_error\n",
        "# score = r2_score(y_test, y_pred2)\n",
        "# print(\"RMSE:\", mean_squared_error(y_test, y_pred2, squared=False))\n",
        "# print(\"MSE:\", mean_squared_error(y_test, y_pred2))\n",
        "# print(\"Rsqr:\",score)"
      ]
    },
    {
      "cell_type": "code",
      "execution_count": null,
      "metadata": {
        "id": "a2ngL6CyhP6v"
      },
      "outputs": [],
      "source": [
        "# score = r2_score(y_test, y_pred2)\n",
        "# print(score)\n"
      ]
    },
    {
      "cell_type": "code",
      "execution_count": null,
      "metadata": {
        "id": "u4_ZMyIZrh5l"
      },
      "outputs": [],
      "source": [
        "# score = r2_score(y_test, y_pred)\n",
        "# score"
      ]
    },
    {
      "cell_type": "code",
      "execution_count": null,
      "metadata": {
        "id": "MPDrx0iFaGjb"
      },
      "outputs": [],
      "source": [
        "# import h5py\n",
        "# f = h5py.File('best_checkpoint.hdf5','r')   #打开h5文件  # 可以查看所有的主键  \n",
        "# for key in f.keys():      \n",
        "#   print(f[key].name)\n",
        "#   # print(f[key].value) "
      ]
    },
    {
      "cell_type": "markdown",
      "metadata": {
        "id": "8zx3rJnDZKWv"
      },
      "source": [
        "## 5 fold validation"
      ]
    },
    {
      "cell_type": "code",
      "execution_count": null,
      "metadata": {
        "id": "NuSVvd5UZTM7"
      },
      "outputs": [],
      "source": [
        "# # input_x,lable_1d = create_dataset(input_x, lable)\n",
        "# # lable = np.array(lable)\n",
        "# fold = 5\n",
        "# kf = KFold(n_splits=fold, shuffle = True, random_state=seed)\n",
        "# # kf.get_n_splits(input_x)\n",
        "# # print(kf)\n",
        "# from keras import backend as K \n",
        "# K.clear_session()\n",
        "# from sklearn.metrics import r2_score\n",
        "# for train_idx, test_idx in kf.split(input_x,lable):\n",
        "#   # print(train_idx)\n",
        "#   x_train, x_test = input_x[train_idx], input_x[test_idx]\n",
        "#   y_train, y_test = lable[train_idx], lable[test_idx]\n",
        "#   # print(\"x_1:\", x_train.shape, \"y_1:\", y_train.shape)\n",
        "#   model = Sequential([\n",
        "#                       layers.LSTM(64, input_shape=(9, 1)),\n",
        "#                       layers.Dense(256),\n",
        "#                       layers.Dense(128),\n",
        "#                       layers.Dense(64), #relu\n",
        "#                       layers.Dense(1) #no act\n",
        "#                       ])\n",
        "#   opt = keras.optimizers.SGD(learning_rate=0.01) #SGD\n",
        "#   model.compile(optimizer = opt, loss=\"mae\") #or mse\n",
        "#   history = model.fit(x_train, y_train, epochs=10, batch_size = 128, validation_data = (x_test, y_test))\n",
        "#   y_pred = model.predict(x_test, verbose=1)\n",
        "#   score = r2_score(y_test, y_pred)\n",
        "#   # print(\"y_test\",y_test)\n",
        "#   # print(\"y_pred\", y_pred)\n",
        "#   print(score)\n",
        "#   # scores = model.evaluate(x_test, y_test, batch_size = 128)\n",
        "#   # print(\"train loss\",history.history['loss'])\n",
        "#   # print(\"validation loss\",history.history['val_loss'])"
      ]
    },
    {
      "cell_type": "markdown",
      "metadata": {
        "id": "ni5_Fv_n0faY"
      },
      "source": [
        "# LSTM Model Background Knowledge"
      ]
    },
    {
      "cell_type": "markdown",
      "metadata": {
        "id": "362Ey_FUsKHS"
      },
      "source": [
        "# data with NaN"
      ]
    },
    {
      "cell_type": "code",
      "execution_count": null,
      "metadata": {
        "id": "JsWDbbA9XUik"
      },
      "outputs": [],
      "source": [
        "# f_error = pd.read_csv('/content/drive/MyDrive/Colab Notebooks/error.txt')\n",
        "# gin = pd.read_csv('/content/drive/MyDrive/Colab Notebooks/fin_python.txt')\n",
        "\n",
        "# # f_error\n",
        "# f_error = f_error.sort_values(by = ['center_y','center_x'], ascending = (False, True))\n",
        "# d = 2\n",
        "# r = (d**2 + d**2)**0.5\n",
        "# d_xl = 2*3\n",
        "# x_axis = np.arange(-170,170,d)\n",
        "# y_axis = np.arange(-170,170,d)\n",
        "# X,Y = np.meshgrid(x_axis,y_axis)\n",
        "\n",
        "# plt.plot(X,Y, marker='+', color='grey', linestyle='none',alpha=0.2)\n",
        "# plt.plot(f_error['center_x'],f_error['center_y'], marker='.',markersize=0.4, color='red', linestyle='none')\n",
        "# plt.gca().set_aspect('equal') #set same ratio for x and y axis\n",
        "# plt.show()\n",
        "# gin.head()\n",
        "# len(f_error['center_y'].value_counts())\n",
        "# y_cord = 169\n",
        "# row = 0\n",
        "# arr = []\n",
        "# arr_col = []\n",
        "# while y_cord >= -169:\n",
        "#     arr += [row]*len(f_error[f_error['center_y']==y_cord])\n",
        "#     for col in range(0,len(f_error[f_error['center_y']==y_cord])):\n",
        "#         arr_col += [col]\n",
        "    \n",
        "#     y_cord -= 2\n",
        "#     row += 1\n",
        "    \n",
        "# arr = pd.DataFrame(arr[::-1], columns = [\"row\"])\n",
        "# f_error['row'] = arr\n",
        "\n",
        "# f_error['col'] = arr_col\n",
        "\n",
        "# # f_error = f_error[f_error['error'].notna()]\n",
        "# f_error\n",
        "# row = 0\n",
        "# z_matrix = []\n",
        "# error_matrix = []\n",
        "\n",
        "# while row <= f_error['row'].max():\n",
        "#     pt = f_error[f_error['row']==row]\n",
        "#     grid_cordinate = list(pt['center_z'])\n",
        "#     z_matrix.append(grid_cordinate)\n",
        "    \n",
        "#     error_cordinate = list(pt['error'])\n",
        "#     error_matrix.append(error_cordinate)\n",
        "#     row += 1\n",
        "\n",
        "# from itertools import zip_longest\n",
        "# # pd.DataFrame(point_matrix)\n",
        "# error_matrix = np.array(list(zip_longest(*error_matrix, fillvalue= np.nan)))\n",
        "# # z_matrix = np.array(list(zip_longest(*z_matrix, fillvalue= z_matrix[len(z_matrix)-1])))\n",
        "# z_matrix = np.array(list(zip_longest(*z_matrix, fillvalue= 0)))\n",
        "# error_matrix.shape\n",
        "# z_matrix.shape\n",
        "\n",
        "# def rolling_window(a, shape):\n",
        "#     s = (a.shape[0] - shape[0] + 1,) + (a.shape[1] - shape[1] + 1,) + shape\n",
        "#     strides = a.strides + a.strides\n",
        "#     return np.lib.stride_tricks.as_strided(a, shape=s, strides=strides)\n",
        "\n",
        "# def window2(arr, shape=(3, 3)):\n",
        "#     r_extra = np.floor(shape[0] / 2).astype(int)\n",
        "#     c_extra = np.floor(shape[1] / 2).astype(int)\n",
        "#     out = np.empty((arr.shape[0] + 2 * r_extra, arr.shape[1] + 2 * c_extra))\n",
        "#     out[:] = np.nan\n",
        "#     out[r_extra:-r_extra, c_extra:-c_extra] = arr\n",
        "#     view = rolling_window(out, shape)\n",
        "# #     print(rolling_window(out, shape))\n",
        "#     return view\n",
        "\n",
        "# # window2(z_matrix,(3,3))\n",
        "# error_sqmatrix = window2(error_matrix,(3,3))\n",
        "# z_sqmatrix = window2(z_matrix,(3,3))\n",
        "\n",
        "# # z_sqmatrix.shape\n",
        "# # output:(170, 170, 3, 3)\n",
        "\n",
        "# # z_sqmatrix\n",
        "# model_x = []\n",
        "# import itertools\n",
        "# for row in z_sqmatrix:\n",
        "#     for col in row:\n",
        "# #         print(list(itertools.chain.from_iterable(col)))\n",
        "#         model_x.append(list(itertools.chain.from_iterable(col)))\n",
        "    \n",
        "\n",
        "# # model_x\n",
        "# model_x = np.array(model_x)\n",
        "# model_x.shape\n",
        "# model_y = []\n",
        "\n",
        "# for row in error_sqmatrix:\n",
        "#     for col in row:\n",
        "# #     for col_idx in range(0,3):\n",
        "# #         print(list(itertools.chain.from_iterable(col)))\n",
        "#         model_y.append(list(itertools.chain.from_iterable(col))[4])\n",
        "    \n",
        "# # model_x\n",
        "# model_y = np.array(model_y)\n",
        "# model_y.shape\n",
        "# # model_x = np.nan_to_num(model_x)\n",
        "# # model_y = np.nan_to_num(model_y,nan = f_error['error'].mean())\n",
        "# model_x[0]\n",
        "# model_y[0]"
      ]
    },
    {
      "cell_type": "markdown",
      "metadata": {
        "id": "mytIUSEjKQdQ"
      },
      "source": [
        "**1. LSTM函数：**\n",
        "\n",
        "https://keras.io/zh/layers/recurrent/#lstm\n",
        "\n",
        "```\n",
        "keras.layers.LSTM(units, \n",
        "                  activation='tanh', \n",
        "                  recurrent_activation='hard_sigmoid', \n",
        "                  use_bias=True, \n",
        "                  kernel_initializer='glorot_uniform', \n",
        "                  recurrent_initializer='orthogonal', \n",
        "                  bias_initializer='zeros', \n",
        "                  unit_forget_bias=True, \n",
        "                  kernel_regularizer=None, \n",
        "                  recurrent_regularizer=None, \n",
        "                  bias_regularizer=None, \n",
        "                  activity_regularizer=None, \n",
        "                  kernel_constraint=None, \n",
        "                  recurrent_constraint=None, \n",
        "                  bias_constraint=None, \n",
        "                  dropout=0.0, \n",
        "                  recurrent_dropout=0.0, \n",
        "                  implementation=1, \n",
        "                  return_sequences=False, \n",
        "                  return_state=False, \n",
        "                  go_backwards=False, \n",
        "                  stateful=False, \n",
        "                  unroll=False)\n",
        "\n",
        "```\n",
        "\n"
      ]
    },
    {
      "cell_type": "markdown",
      "metadata": {
        "id": "Yl-D6YpsFLJf"
      },
      "source": [
        "**2. Sequential函数: model = Sequential()**\n",
        "\n",
        "https://keras.io/zh/getting-started/sequential-model-guide/\n",
        "\n",
        "<br>\n",
        "\n",
        "**3. Complie函数：**\n",
        "\n",
        "<br>\n",
        "\n",
        "<b> Definition: </b><br>\n",
        "模型编译<br>\n",
        "\n",
        "<b> Parameters: </b><br>\n",
        "* 优化器 optimizer。它可以是现有优化器的字符串标识符，如 rmsprop 或 adagrad，也可以是 Optimizer 类的实例。详见：optimizers。\n",
        "\n",
        "* 损失函数 loss，模型试图最小化的目标函数。它可以是现有损失函数的字符串标识符，如 categorical_crossentropy 或 mse，也可以是一个目标函数。详见：losses。\n",
        "* 评估标准 metrics。评估标准可以是现有的标准的字符串标识符，也可以是自定义的评估标准函数。\n",
        "\n"
      ]
    },
    {
      "cell_type": "markdown",
      "metadata": {
        "id": "DBXHoF9lE0Ev"
      },
      "source": [
        "**4. Dense函数：keras.layers.Dense()**\n",
        "\n",
        "https://keras.io/zh/layers/core/#dense/\n",
        "\n",
        "<br>\n",
        "<b> Definition: </b><br>\n",
        "\n",
        "Dense 实现以下操作： \n",
        "output = activation(dot(input, kernel) + bias) 其中 activation \n",
        "是按逐个元素计算的激活函数，kernel 是由网络层创建的权值矩阵，以及 bias 是其创建的偏置向量\n",
        "\n",
        "```\n",
        "keras.layers.Dense(units, \n",
        "                   activation=None, \n",
        "                   use_bias=True, \n",
        "                   kernel_initializer='glorot_uniform', \n",
        "                   bias_initializer='zeros', \n",
        "                   kernel_regularizer=None, \n",
        "                   bias_regularizer=None, \n",
        "                   activity_regularizer=None, \n",
        "                   kernel_constraint=None, \n",
        "                   bias_constraint=None)\n",
        "```\n",
        "\n",
        "<b> Parameters: </b><br>\n",
        "* units: 正整数，输出空间维度。\n",
        "\n",
        "* activation: 激活函数 (详见 activations)。 若不指定，则不使用激活函数 (即，「线性」激活: a(x) = x)。\n",
        "* use_bias: 布尔值，该层是否使用偏置向量。\n",
        "* kernel_initializer: kernel 权值矩阵的初始化器 (详见 initializers)。\n",
        "* bias_initializer: 偏置向量的初始化器 (see initializers).\n",
        "* kernel_regularizer: 运用到 kernel 权值矩阵的正则化函数 (详见 regularizer)。\n",
        "* bias_regularizer: 运用到偏置向的的正则化函数 (详见 regularizer)。\n",
        "* activity_regularizer: 运用到层的输出的正则化函数 (它的 \"activation\")。 (详见 regularizer)。\n",
        "* kernel_constraint: 运用到 kernel 权值矩阵的约束函数 (详见 constraints)。\n",
        "* bias_constraint: 运用到偏置向量的约束函数 (详见 constraints)。<br>\n",
        "\n",
        ">"
      ]
    },
    {
      "cell_type": "code",
      "execution_count": null,
      "metadata": {
        "id": "vVYuFFLTLJeY"
      },
      "outputs": [],
      "source": []
    }
  ],
  "metadata": {
    "colab": {
      "collapsed_sections": [
        "KfcZ0g-4Z4VQ",
        "dtGqOKmXZx30",
        "a-vM6EcLh4OL"
      ],
      "name": "LSTM_model_common.ipynb",
      "provenance": []
    },
    "kernelspec": {
      "display_name": "dl",
      "language": "python",
      "name": "python3"
    },
    "language_info": {
      "name": "python",
      "version": "3.10.9"
    },
    "vscode": {
      "interpreter": {
        "hash": "c2a2ea8423b0d36e93b4c1bb78c28f21f40e9b0bd6eed0717adb0a76d75854bb"
      }
    }
  },
  "nbformat": 4,
  "nbformat_minor": 0
}
